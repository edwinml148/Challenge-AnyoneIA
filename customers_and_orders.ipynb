{
  "cells": [
    {
      "cell_type": "markdown",
      "metadata": {
        "id": "piiX_CRNFYUi"
      },
      "source": [
        "# Technical Challenge ! Custiomers and Orders - The lifeblood of any business!\n",
        "\n",
        "This notebook depends on two data files: customers.scv and orders.csv. These files are hosted in the cloud (or Github), so for simplicity, we are providing you with the code to download and save the two files in a folder called 'sample_data' which lives within this notebook session (not on your local computer nor Google Drive).\n",
        "\n",
        "![sample_data folder in notebook session](https://raw.githubusercontent.com/anyoneai/notebooks/main/customers_and_orders/images/sample_data_folder.png)\n",
        "\n",
        "Please execute the first code snippet before moving to the rest of the exercise as this code will import the data from the files for you to be able to execute the rest of the exercise.\n",
        "\n",
        "Remember as we said in the previous lecture, you have to save this notebook into your Google Drive by going to menu File/Save a Copy In Drive, or clicking in the button \"Copy to Drive\". This way, you will not lose any work you've done and the file will persist with your latest changes in your Google Drive. Also we recommend you to rename your .ipynb in your Google Drive, so you can easily find it in the future."
      ]
    },
    {
      "cell_type": "code",
      "execution_count": 1,
      "metadata": {
        "colab": {
          "base_uri": "https://localhost:8080/"
        },
        "id": "MWpVO242FQHC",
        "outputId": "b7decd76-94e2-45ec-b969-0546148b79d8"
      },
      "outputs": [
        {
          "output_type": "stream",
          "name": "stdout",
          "text": [
            "Customers and orders CSV files have been added './sample_data'\n"
          ]
        }
      ],
      "source": [
        "import requests\n",
        "\n",
        "def import_data_files():\n",
        "  r = requests.get('https://raw.githubusercontent.com/anyoneai/notebooks/main/customers_and_orders/data/customers.csv')\n",
        "  with open('./sample_data/customers.csv', 'wb') as f:\n",
        "    f.write(r.content)\n",
        "\n",
        "  r = requests.get('https://raw.githubusercontent.com/anyoneai/notebooks/main/customers_and_orders/data/orders.csv')\n",
        "  with open('./sample_data/orders.csv', 'wb') as f:\n",
        "    f.write(r.content)\n",
        "  \n",
        "import_data_files()\n",
        "print(\"Customers and orders CSV files have been added './sample_data'\")"
      ]
    },
    {
      "cell_type": "markdown",
      "metadata": {
        "id": "JQAduY-RWKyB"
      },
      "source": [
        "# Exercise 1: Processing Customers data (difficulty medium)\n",
        "\n",
        "The sample customer data in 'customers.csv' file has just 5 columns: CustomerId, First Name, Last Name, City and State\n",
        "\n",
        "![Data sample](https://raw.githubusercontent.com/anyoneai/notebooks/main/customers_and_orders/images/customers.png)\n",
        "\n",
        "We strongly recommend that you complete from the [Prep Course: Intro to Python](https://colab.research.google.com/github/anyoneai/notebooks/blob/main/python3_crash_course.ipynb) the following section:\n",
        "- Section 7: File I/O (to understand how to read CSV file) \n",
        "- Section 6: For Loop (to navigate the contents of the CSV file)\n",
        "- Section 5: Tuples, Lists, and Dictionaries (to manipulate the data of the CSV file)\n",
        "\n",
        "With this, we hope you can complete this exercise successfully. Although if you want to solve this with libraries or any other way, you are welcome to do it your way.\n",
        "\n",
        "*Hint:* We advise you to take a look at the data before you start.\n",
        "**if you want to manually take a look at the data before you start, please see the content of the data [here](https://github.com/anyoneai/notebooks/blob/main/customers_and_orders/data/customers.csv).\n",
        "\n",
        "*Hint*: There are many ways to do this exercise you can do your own, although here's some help. You can solve this exercise reading and parsing CSV files, structuring data into dictionaries, and using for loops to navigate the contents\n",
        "\n",
        "*Hint*: Also, keep in mind that data might not be clean and you might have to figure out how to deal with that data from the code, without having to modify the data source.\n",
        "\n",
        "Below are the 5 questions you'll have to answer to pass the evaluation:"
      ]
    },
    {
      "cell_type": "markdown",
      "metadata": {
        "id": "kJq7S8sBfbOW"
      },
      "source": [
        "**Question 1:** How many customers are in the file?\n",
        "(as help, we have added some comments and starter code to help you structure the solution)"
      ]
    },
    {
      "cell_type": "code",
      "execution_count": null,
      "metadata": {
        "colab": {
          "base_uri": "https://localhost:8080/"
        },
        "id": "oMnUFBFb2RUb",
        "outputId": "52ea93bf-5e26-42f4-abb8-175d8170b41d"
      },
      "outputs": [
        {
          "output_type": "stream",
          "name": "stdout",
          "text": [
            "Cantidad de Clientes en el archivo :  602\n",
            "All done!\n"
          ]
        }
      ],
      "source": [
        "from os.path import exists\n",
        "import csv\n",
        "import pandas as pd\n",
        "\n",
        "# check if file can be found and open the file\n",
        "datafile = \"./sample_data/customers.csv\"\n",
        "if not exists(datafile):\n",
        "  raise SystemExit(\"You should run the first code cell and download the dataset files!\")\n",
        "\n",
        "# customers file is in the sample_data folder and can be opened.\n",
        "# Using csv reader is one way of dealing with the file \n",
        "# but it's up to you how you want to proceed\n",
        "with open(datafile, 'r') as fl:\n",
        "  csvreader = csv.reader(fl, delimiter=',')\n",
        "  # loop through the rows and count etc. THE REST IS UP TO YOU!\n",
        "\n",
        "\n",
        "df = pd.read_csv(datafile)\n",
        "print(\"Number of Clients on file : \",len(df.index))\n",
        "\n",
        "  \n",
        "\n",
        "\n",
        "print(\"All done!\")"
      ]
    },
    {
      "cell_type": "markdown",
      "metadata": {
        "id": "uffBnNgz_570"
      },
      "source": [
        "**Question 2:** In how many different states do the customers live in?"
      ]
    },
    {
      "cell_type": "code",
      "execution_count": null,
      "metadata": {
        "id": "Bi_yid0sMe3-",
        "colab": {
          "base_uri": "https://localhost:8080/"
        },
        "outputId": "18d8ef04-3a43-4ea6-9379-7d8984bce4e1"
      },
      "outputs": [
        {
          "output_type": "stream",
          "name": "stdout",
          "text": [
            "['CA' 'AZ' 'NV' 'FL' 'WA' 'NH' 'ID' 'CO' 'TX' 'NM' 'OR' 'UT' 'MA' 'IN']\n",
            "Cantidad de estados :  14 \n",
            "\n"
          ]
        }
      ],
      "source": [
        "# open file and init vars\n",
        "# evaluate the contents of the file\n",
        "import pandas as pd\n",
        "\n",
        "df = pd.read_csv(datafile)\n",
        "\n",
        "def corregir_campo(x):\n",
        "  x_upper = x.upper()\n",
        "  characters = \" \"\n",
        "  x_upper = ''.join( x for x in x_upper if x not in characters)\n",
        "  return x_upper\n",
        "\n",
        "df_state_clear=df['State'].apply(corregir_campo)\n",
        "\n",
        "state_unique = pd.unique(df_state_clear)\n",
        "\n",
        "print(state_unique)\n",
        "print(\"Cantidad de estados : \",len(state_unique),'\\n')\n"
      ]
    },
    {
      "cell_type": "markdown",
      "metadata": {
        "id": "DC59SZYiMfNY"
      },
      "source": [
        "**Question 3** What is the state with most customers?"
      ]
    },
    {
      "cell_type": "code",
      "execution_count": null,
      "metadata": {
        "id": "tfGU3w-OMhA9",
        "colab": {
          "base_uri": "https://localhost:8080/"
        },
        "outputId": "2bdc1a78-af03-4ebc-fdbd-54ed7a82d02d"
      },
      "outputs": [
        {
          "output_type": "stream",
          "name": "stdout",
          "text": [
            "Estado con mayoria de clientes :  CA\n"
          ]
        }
      ],
      "source": [
        "# open file and init vars\n",
        "# evaluate the contents of the file\n",
        "\n",
        "import pandas as pd\n",
        "\n",
        "df = pd.read_csv(datafile)\n",
        "\n",
        "def corregir_campo(x):\n",
        "  x_upper = x.upper()\n",
        "  characters = \" \"\n",
        "  x_upper = ''.join( x for x in x_upper if x not in characters)\n",
        "  return x_upper\n",
        "\n",
        "df_state_clear=df['State'].apply(corregir_campo)\n",
        "\n",
        "state_maximo = df_state_clear.value_counts().idxmax()\n",
        "\n",
        "print(\"Estado con mayoria de clientes : \" , state_maximo)\n"
      ]
    },
    {
      "cell_type": "markdown",
      "metadata": {
        "id": "7mcM6cUAMhLB"
      },
      "source": [
        "**Question 4** What is the state with the least customers?"
      ]
    },
    {
      "cell_type": "code",
      "execution_count": null,
      "metadata": {
        "id": "8T0Ka2RqMi3P",
        "colab": {
          "base_uri": "https://localhost:8080/"
        },
        "outputId": "5db43b81-2f3e-48d7-d02c-c1c86429c985"
      },
      "outputs": [
        {
          "output_type": "stream",
          "name": "stdout",
          "text": [
            "Estado con menos clientes :  ['WA', 'NH', 'ID', 'OR', 'MA', 'IN']\n"
          ]
        }
      ],
      "source": [
        "# open file and init vars\n",
        "# evaluate the contents of the file\n",
        "\n",
        "import pandas as pd\n",
        "\n",
        "df = pd.read_csv(datafile)\n",
        "\n",
        "def corregir_campo(x):\n",
        "  x_upper = x.upper()\n",
        "  characters = \" \"\n",
        "  x_upper = ''.join( x for x in x_upper if x not in characters)\n",
        "  return x_upper\n",
        "\n",
        "df_state_clear=df['State'].apply(corregir_campo)\n",
        "\n",
        "state_counts = df_state_clear.value_counts()\n",
        "\n",
        "state_min= state_counts[ state_counts == state_counts.min() ]\n",
        "\n",
        "\n",
        "print( \"Estado con menos clientes : \" , list(state_min.index) )"
      ]
    },
    {
      "cell_type": "markdown",
      "metadata": {
        "id": "h6fIy7hXHF6A"
      },
      "source": [
        "**Question 5:** What is the most common last name?"
      ]
    },
    {
      "cell_type": "code",
      "execution_count": null,
      "metadata": {
        "id": "k8M1DmA75Km7",
        "colab": {
          "base_uri": "https://localhost:8080/"
        },
        "outputId": "228f2ba1-27a7-4c7d-f180-b305a2b1e923"
      },
      "outputs": [
        {
          "output_type": "stream",
          "name": "stdout",
          "text": [
            "Apellido mas comun :  SMITH\n"
          ]
        }
      ],
      "source": [
        "# open file and init vars\n",
        "# evaluate the contents of the file\n",
        "\n",
        "import pandas as pd\n",
        "\n",
        "df = pd.read_csv(datafile)\n",
        "\n",
        "LastName_unique = df['LastName'].map(lambda x:x.upper())\n",
        "LastName_max = LastName_unique.value_counts().idxmax()\n",
        "\n",
        "print( \"Apellido mas comun : \", LastName_max )"
      ]
    },
    {
      "cell_type": "markdown",
      "metadata": {
        "id": "YPRma1t9NoFk"
      },
      "source": [
        "# Exercise 2: Processing Orders data (difficulty high)\n",
        "\n",
        "The second sample files contains orders placed by customers from the first file. Be careful, this file has many rows and you most likely should not print the contents of the whole file. \n",
        "\n",
        "The file contains the following columns: CustomerID, OrderID, Date, OrderTotal, ProductName, Price\n",
        "\n",
        "![Data sample](https://raw.githubusercontent.com/anyoneai/notebooks/main/customers_and_orders/images/orders.png)\n",
        "\n",
        "*Hint:* We advise you to take a look at the data before you start.\n",
        "**if you want to manually take a look at the data before you start, please see the content of the data [here](https://raw.githubusercontent.com/anyoneai/notebooks/main/customers_and_orders/data/orders.csv).\n",
        "\n",
        "*Hint*: There are many ways to do this exercise you can do your own, although here's some help. You can solve this exercise reading and parsing CSV files, structuring data into dictionaries, and using for loops to navigate the contents\n",
        "\n",
        "*Hint*: Also, the data is not clean and you will have to figure out how to deal with that data from the code, without having to modify the data source.\n",
        "\n",
        "\n",
        "\n",
        "**Question #1:** How many unique orders are in the orders.csv file?\n",
        "\n",
        "**Question #2:** What is the average number of items per order (rounded to two decimal places)?\n",
        "\n",
        "**Question #3:** What is the highest number of items per order?\n",
        "\n",
        "**Question #4:** What is the number of orders placed in October 2021?\n",
        "\n",
        "**Question #5:** Which customer spent the most amount of money in 2021?\n",
        "\n",
        "**Question #6:** Historically, what is the best month for sales?\n",
        "\n",
        "Once you get your answers, remember to go back to the course and introduce them in the multiple choice quiz"
      ]
    },
    {
      "cell_type": "markdown",
      "source": [
        "**Question #1:** How many unique orders are in the orders.csv file?"
      ],
      "metadata": {
        "id": "N9cuNb9ctuJF"
      }
    },
    {
      "cell_type": "code",
      "source": [
        "from os.path import exists\n",
        "import csv\n",
        "import pandas as pd\n",
        "\n",
        "# check if file can be found and open the file\n",
        "datafile = \"./sample_data/orders.csv\"\n",
        "if not exists(datafile):\n",
        "  raise SystemExit(\"You should run the first code cell and download the dataset files!\")\n",
        "\n",
        "\n"
      ],
      "metadata": {
        "id": "9iB2Et4QtY9O"
      },
      "execution_count": 3,
      "outputs": []
    },
    {
      "cell_type": "code",
      "execution_count": null,
      "metadata": {
        "id": "8ipJTrfs5QVM",
        "colab": {
          "base_uri": "https://localhost:8080/"
        },
        "outputId": "6ac83610-2928-424f-dd44-39538ff5d156"
      },
      "outputs": [
        {
          "output_type": "stream",
          "name": "stdout",
          "text": [
            "Pedidos unicos :  16672\n"
          ]
        }
      ],
      "source": [
        "# open and evaluate orders.csv\n",
        "\n",
        "import pandas as pd\n",
        "\n",
        "df = pd.read_csv(datafile)\n",
        "\n",
        "df_OrderID_unique = pd.unique(df['OrderID'])\n",
        "\n",
        "print(\"Pedidos unicos : \",len(df_OrderID_unique))"
      ]
    },
    {
      "cell_type": "markdown",
      "source": [
        "**Question #2:** What is the average number of items per order (rounded to two decimal places)?"
      ],
      "metadata": {
        "id": "TSr39xH5uP4S"
      }
    },
    {
      "cell_type": "code",
      "source": [
        "import pandas as pd\n",
        "\n",
        "df = pd.read_csv(datafile)\n",
        "\n",
        "OrderID_count = df['OrderID'].value_counts()\n",
        "\n",
        "print(\"Valor promedio pedidos por OrdenID : \",round( OrderID_count.mean(),2) )\n"
      ],
      "metadata": {
        "colab": {
          "base_uri": "https://localhost:8080/"
        },
        "id": "EQqPgKO1yno5",
        "outputId": "a48db50e-2613-4b4a-b6d1-b10e71b6b9ac"
      },
      "execution_count": null,
      "outputs": [
        {
          "output_type": "stream",
          "name": "stdout",
          "text": [
            "Valor promedio pedidos por OrdenID :  1.76\n"
          ]
        }
      ]
    },
    {
      "cell_type": "markdown",
      "source": [
        "Question #3: What is the highest number of items per order?"
      ],
      "metadata": {
        "id": "_igdX_wG6DKd"
      }
    },
    {
      "cell_type": "code",
      "source": [
        "import pandas as pd\n",
        "\n",
        "df = pd.read_csv(datafile)\n",
        "\n",
        "OrderID_count = df['OrderID'].value_counts()\n",
        "print(\"Mayor número de Items por pedido : \",OrderID_count.max())"
      ],
      "metadata": {
        "colab": {
          "base_uri": "https://localhost:8080/"
        },
        "id": "1eQmriUj6D17",
        "outputId": "bc517d7d-8ed9-4818-daad-09547a2e0d2a"
      },
      "execution_count": null,
      "outputs": [
        {
          "output_type": "stream",
          "name": "stdout",
          "text": [
            "Mayor número de Items por pedido :  35\n"
          ]
        }
      ]
    },
    {
      "cell_type": "markdown",
      "source": [
        "Question #4: What is the number of orders placed in October 2021?"
      ],
      "metadata": {
        "id": "IVHcYGMv77l6"
      }
    },
    {
      "cell_type": "code",
      "source": [
        "import pandas as pd\n",
        "\n",
        "df = pd.read_csv(datafile)\n",
        "\n",
        "df_dropna = df.dropna()\n",
        "\n",
        "mask = (df_dropna['Date'] > '2021-10-01') & (df_dropna['Date'] <= '2021-10-31')\n",
        "filtered_df=df_dropna.loc[mask]\n",
        "print(\"Numero de ordenes atendidas en octubre 2021 : \",len(filtered_df))"
      ],
      "metadata": {
        "colab": {
          "base_uri": "https://localhost:8080/"
        },
        "id": "nFmfjevA78VP",
        "outputId": "f044ffd5-12f1-4d48-fa07-0fe5f1c3a9bb"
      },
      "execution_count": null,
      "outputs": [
        {
          "output_type": "stream",
          "name": "stdout",
          "text": [
            "Numero de ordenes atendidas en octubre 2021 :  437\n"
          ]
        }
      ]
    },
    {
      "cell_type": "markdown",
      "source": [
        "Question #5: Which customer spent the most amount of money in 2021?"
      ],
      "metadata": {
        "id": "Uv1x_TdR_Ihz"
      }
    },
    {
      "cell_type": "code",
      "source": [
        "import pandas as pd\n",
        "\n",
        "df = pd.read_csv(datafile)\n",
        "\n",
        "df_dropna = df.dropna()\n",
        "\n",
        "mask = (df_dropna['Date'] > '2021-01-01') & (df_dropna['Date'] <= '2021-12-31')\n",
        "filtered_df=df_dropna.loc[mask]\n",
        "\n",
        "CustomerID_counts = filtered_df['CustomerID'].value_counts()\n",
        "\n",
        "list_CustomerID = list(CustomerID_counts.index)\n",
        "\n",
        "list_Price = []\n",
        "\n",
        "for i in list_CustomerID:\n",
        "  Price = filtered_df['Price'][ filtered_df['CustomerID'] == i ].sum()\n",
        "  list_Price.append(Price)\n",
        "\n",
        "\n",
        "price_max = pd.Series( list_Price , index = list_CustomerID ).max()\n",
        "CustomerID_price_max = pd.Series( list_Price , index = list_CustomerID ).idxmax()\n",
        "\n",
        "\n",
        "df_customers = pd.read_csv(\"./sample_data/customers.csv\")\n",
        "\n",
        "\n",
        "FirstName_price_max = list( df_customers['FirstName'][ df_customers['CustomerID'] == CustomerID_price_max ] )[0] \n",
        "LastName_price_max = list( df_customers['LastName'][ df_customers['CustomerID'] == CustomerID_price_max ] )[0]\n",
        "\n",
        "print( FirstName_price_max + \" \" + LastName_price_max + \" , CustomerID : \"+ str(CustomerID_price_max) + \" has spent $\" + str(price_max) )"
      ],
      "metadata": {
        "colab": {
          "base_uri": "https://localhost:8080/"
        },
        "id": "wYORNq2D_JMq",
        "outputId": "7f08dfa1-52d9-4f22-93c7-cc553ed6bfe4"
      },
      "execution_count": null,
      "outputs": [
        {
          "output_type": "stream",
          "name": "stdout",
          "text": [
            "Brandon Divas , CustomerID : 5172443 has spent $7675.0\n"
          ]
        }
      ]
    },
    {
      "cell_type": "markdown",
      "source": [
        "Question #6: Historically, what is the best month for sales?"
      ],
      "metadata": {
        "id": "DCQSY6uY9-Cf"
      }
    },
    {
      "cell_type": "code",
      "source": [
        "import pandas as pd\n",
        "\n",
        "df = pd.read_csv(datafile)\n",
        "\n",
        "df_dropna = df.dropna()\n",
        "\n",
        "df_dropna['month'] = pd.DatetimeIndex(df_dropna['Date']).month\n",
        "\n",
        "sum_mensual = []\n",
        "\n",
        "meses = ['enero' ,'febrero','marzo','abril','mayo','junio','julio','agosto','septiembre','octubre','noviembre','diciembre']\n",
        "\n",
        "\n",
        "for i in range(len(meses)):\n",
        "  sum_mensual.append( df_dropna['Price'][ df_dropna['month'] == i+1 ].sum() )\n",
        "\n",
        "price_max = pd.Series( sum_mensual , index = meses )\n",
        "\n",
        "print(\"Historicamente , el mes con mas ingresos es : \",price_max.idxmax(),'\\n')\n"
      ],
      "metadata": {
        "colab": {
          "base_uri": "https://localhost:8080/"
        },
        "id": "H-DhfR6_99jZ",
        "outputId": "a949465d-b867-4ceb-921b-4a67c027a0f9"
      },
      "execution_count": 21,
      "outputs": [
        {
          "output_type": "stream",
          "name": "stdout",
          "text": [
            "Historicamente , el mes con mas ingresos es :  enero \n",
            "\n"
          ]
        },
        {
          "output_type": "stream",
          "name": "stderr",
          "text": [
            "/usr/local/lib/python3.7/dist-packages/ipykernel_launcher.py:7: SettingWithCopyWarning: \n",
            "A value is trying to be set on a copy of a slice from a DataFrame.\n",
            "Try using .loc[row_indexer,col_indexer] = value instead\n",
            "\n",
            "See the caveats in the documentation: https://pandas.pydata.org/pandas-docs/stable/user_guide/indexing.html#returning-a-view-versus-a-copy\n",
            "  import sys\n"
          ]
        }
      ]
    },
    {
      "cell_type": "markdown",
      "metadata": {
        "id": "ie0JW4FAk6Os"
      },
      "source": [
        "# Finished!\n",
        "\n",
        "Hope this was not too difficult and slicing and dicing the datasets was some fun. Now head on back to the course and provide the answers to the questions from this exercise."
      ]
    }
  ],
  "metadata": {
    "colab": {
      "collapsed_sections": [],
      "name": "customers_and_orders.ipynb",
      "provenance": []
    },
    "kernelspec": {
      "display_name": "Python 3 (ipykernel)",
      "language": "python",
      "name": "python3"
    },
    "language_info": {
      "codemirror_mode": {
        "name": "ipython",
        "version": 3
      },
      "file_extension": ".py",
      "mimetype": "text/x-python",
      "name": "python",
      "nbconvert_exporter": "python",
      "pygments_lexer": "ipython3",
      "version": "3.9.9"
    }
  },
  "nbformat": 4,
  "nbformat_minor": 0
}